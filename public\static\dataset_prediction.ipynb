{
  "nbformat": 4,
  "nbformat_minor": 0,
  "metadata": {
    "colab": {
      "name": "set_prediction.ipynb",
      "provenance": [],
      "collapsed_sections": [],
      "include_colab_link": true
    },
    "kernelspec": {
      "name": "python3",
      "display_name": "Python 3"
    }
  },
  "cells": [
    {
      "cell_type": "markdown",
      "metadata": {
        "id": "view-in-github",
        "colab_type": "text"
      },
      "source": [
        "<a href=\"https://colab.research.google.com/github/lakshyasharma14/bro-code/blob/master/public%5Cstatic%5Cdataset_prediction.ipynb\" target=\"_parent\"><img src=\"https://colab.research.google.com/assets/colab-badge.svg\" alt=\"Open In Colab\"/></a>"
      ]
    },
    {
      "cell_type": "markdown",
      "metadata": {
        "id": "2UDhsrgPIgWY"
      },
      "source": [
        "# Generic Set Predictor"
      ]
    },
    {
      "cell_type": "markdown",
      "metadata": {
        "id": "bx8UZZMtIr_-"
      },
      "source": [
        "Imports"
      ]
    },
    {
      "cell_type": "code",
      "metadata": {
        "id": "tm-EtH82kJ9B"
      },
      "source": [
        "from __future__ import absolute_import, division, print_function, unicode_literals\n",
        "\n",
        "import keras\n",
        "from keras.models import Sequential\n",
        "from keras.layers import Dense,Dropout,Activation\n",
        "from keras.optimizers import SGD\n",
        "import numpy as np\n",
        "import pandas as pd\n",
        "import matplotlib.pyplot as plt\n",
        "from itertools import chain, combinations\n",
        "from keras.preprocessing.text import Tokenizer\n",
        "from keras.models import model_from_json\n",
        "from google.colab import files\n",
        "import csv\n",
        "import random"
      ],
      "execution_count": null,
      "outputs": []
    },
    {
      "cell_type": "markdown",
      "metadata": {
        "id": "UDiHdeEhIxMj"
      },
      "source": [
        "Google Authentication to access the data sheet"
      ]
    },
    {
      "cell_type": "code",
      "metadata": {
        "id": "1QrxyaU5rMv-"
      },
      "source": [
        "from google.colab import auth\n",
        "auth.authenticate_user()\n",
        "import gspread\n",
        "from oauth2client.client import GoogleCredentials\n",
        "gc = gspread.authorize(GoogleCredentials.get_application_default())"
      ],
      "execution_count": null,
      "outputs": []
    },
    {
      "cell_type": "code",
      "metadata": {
        "id": "MIOs8oxHrfgr"
      },
      "source": [
        "#random number dataset\n",
        "wb = gc.open_by_url('https://docs.google.com/spreadsheets/d/1bRsu9oH3N5A6N7rGFPZ3pngCvwfuHw4_57V_YCHUj38/edit?usp=sharing')\n",
        "sheet = wb.worksheet('Sheet1')\n",
        "raw_data = sheet.get_all_values()\n",
        "df = pd.DataFrame(raw_data)"
      ],
      "execution_count": null,
      "outputs": []
    },
    {
      "cell_type": "markdown",
      "metadata": {
        "id": "n-F43d1oTsAV"
      },
      "source": [
        "Tokenizing Data"
      ]
    },
    {
      "cell_type": "code",
      "metadata": {
        "id": "xBgrIDFJTrP8"
      },
      "source": [
        "data=[]\n",
        "for inner in raw_data:\n",
        "  tmp = []\n",
        "  for str in inner:\n",
        "    if str != '':\n",
        "      tmp.append(str)\n",
        "  data.append(tmp)\n",
        "\n",
        "tok_data = {y for x in data for y in x}\n",
        "\n",
        "tokenizer = Tokenizer(filters='!\"#$%&()*+,-./:;<=>?@[\\\\]^`{|}~\\t\\n')\n",
        "tokenizer.fit_on_texts(tok_data)\n",
        "\n",
        "sequences =tokenizer.texts_to_sequences(data)\n",
        "random.shuffle(sequences)"
      ],
      "execution_count": null,
      "outputs": []
    },
    {
      "cell_type": "code",
      "metadata": {
        "id": "QGXlLZmbvgpG",
        "colab": {
          "base_uri": "https://localhost:8080/",
          "height": 166
        },
        "outputId": "63052796-cf7c-462c-9763-95116eaed3fc"
      },
      "source": [
        "sequences"
      ],
      "execution_count": 1,
      "outputs": [
        {
          "output_type": "error",
          "ename": "NameError",
          "evalue": "ignored",
          "traceback": [
            "\u001b[0;31m---------------------------------------------------------------------------\u001b[0m",
            "\u001b[0;31mNameError\u001b[0m                                 Traceback (most recent call last)",
            "\u001b[0;32m<ipython-input-1-659ad5532fe1>\u001b[0m in \u001b[0;36m<module>\u001b[0;34m\u001b[0m\n\u001b[0;32m----> 1\u001b[0;31m \u001b[0msequences\u001b[0m\u001b[0;34m\u001b[0m\u001b[0;34m\u001b[0m\u001b[0m\n\u001b[0m",
            "\u001b[0;31mNameError\u001b[0m: name 'sequences' is not defined"
          ]
        }
      ]
    },
    {
      "cell_type": "markdown",
      "metadata": {
        "id": "UpAfHkt1JC-Y"
      },
      "source": [
        "Preparing data for training"
      ]
    },
    {
      "cell_type": "code",
      "metadata": {
        "id": "wZFPbhfzJRVO",
        "colab": {
          "base_uri": "https://localhost:8080/",
          "height": 34
        },
        "outputId": "a88725d0-5b63-4201-dcda-0af29a76086c"
      },
      "source": [
        "FEATURE_SET_SIZE = max(list(map(max, *sequences)))+2\n",
        "FEATURE_SET_SIZE"
      ],
      "execution_count": null,
      "outputs": [
        {
          "output_type": "execute_result",
          "data": {
            "text/plain": [
              "66"
            ]
          },
          "metadata": {
            "tags": []
          },
          "execution_count": 7
        }
      ]
    },
    {
      "cell_type": "code",
      "metadata": {
        "id": "iMD44h9AKlDf"
      },
      "source": [
        "def binarize(num):\n",
        "  dinarized_list = np.zeros(FEATURE_SET_SIZE, dtype=int)\n",
        "  dinarized_list[num] = 1\n",
        "  return dinarized_list;\n",
        "\n",
        "def subset_list (num):\n",
        "    s = range(num)\n",
        "    return chain.from_iterable(combinations(s, r) for r in range(1,len(s)))\n",
        "\n",
        "def prepare_data(lst):\n",
        "  result = np.zeros(FEATURE_SET_SIZE, dtype=int)\n",
        "  for index in lst:\n",
        "    result[index] = 1\n",
        "  return result\n",
        "\n",
        "def split_list(a_list):\n",
        "    part = int(len(a_list)//3)\n",
        "    return a_list[part:], a_list[:part]\n"
      ],
      "execution_count": null,
      "outputs": []
    },
    {
      "cell_type": "code",
      "metadata": {
        "id": "5u2jWf8FNZOf",
        "colab": {
          "base_uri": "https://localhost:8080/",
          "height": 136
        },
        "outputId": "6798184d-d535-4a94-c5a4-eb4caaa5b6e8"
      },
      "source": [
        "input= []\n",
        "output=[]\n",
        "for row in sequences:\n",
        "  row_len = len(row)\n",
        "  for subset in subset_list(row_len):\n",
        "    input_sum = np.zeros(FEATURE_SET_SIZE, dtype=int)\n",
        "    output_sum = np.zeros(FEATURE_SET_SIZE, dtype=int)\n",
        "    for index in range(row_len):\n",
        "      if index in subset:\n",
        "        input_sum =  [a + b for a, b in zip(input_sum, binarize(row[index]))]\n",
        "      else:\n",
        "        output_sum =  [a + b for a, b in zip(output_sum, binarize(row[index]))]\n",
        "    input.append(input_sum)\n",
        "    output.append(output_sum)\n",
        "\n",
        "input= np.array(input)\n",
        "output = np.array(output)\n",
        "input"
      ],
      "execution_count": null,
      "outputs": [
        {
          "output_type": "execute_result",
          "data": {
            "text/plain": [
              "array([[0, 0, 0, ..., 0, 0, 0],\n",
              "       [0, 0, 0, ..., 0, 0, 0],\n",
              "       [0, 0, 1, ..., 0, 0, 0],\n",
              "       ...,\n",
              "       [0, 0, 0, ..., 0, 0, 0],\n",
              "       [0, 0, 0, ..., 0, 0, 0],\n",
              "       [0, 0, 0, ..., 0, 0, 0]])"
            ]
          },
          "metadata": {
            "tags": []
          },
          "execution_count": 9
        }
      ]
    },
    {
      "cell_type": "code",
      "metadata": {
        "id": "RiWmOCUGnY6_"
      },
      "source": [
        "input, \n",
        "= split_list(input)\n",
        "output, test_output= split_list(output)"
      ],
      "execution_count": null,
      "outputs": []
    },
    {
      "cell_type": "markdown",
      "metadata": {
        "id": "gdAdc4LHJPtI"
      },
      "source": [
        "Training model"
      ]
    },
    {
      "cell_type": "code",
      "metadata": {
        "id": "zJPGPEAzPA7D"
      },
      "source": [
        "model = Sequential()\n",
        "\n",
        "#\n",
        "model.add(Dense(FEATURE_SET_SIZE*2, activation='relu', input_dim=FEATURE_SET_SIZE))\n",
        "model.add(Dropout(0.5))\n",
        "model.add(Dense(FEATURE_SET_SIZE*2, activation='relu'))\n",
        "model.add(Dropout(0.5))\n",
        "model.add(Dense(FEATURE_SET_SIZE, activation='softmax'))\n",
        "\n",
        "sgd= SGD(lr=0.001,decay=1e-6,momentum=0.9,nesterov=True)"
      ],
      "execution_count": null,
      "outputs": []
    },
    {
      "cell_type": "code",
      "metadata": {
        "id": "4XaaJFk6iZNV"
      },
      "source": [
        "model.compile(loss='binary_crossentropy', optimizer=sgd, metrics=['accuracy'])"
      ],
      "execution_count": null,
      "outputs": []
    },
    {
      "cell_type": "code",
      "metadata": {
        "id": "Ikh89aYmm4Xd",
        "colab": {
          "base_uri": "https://localhost:8080/",
          "height": 136
        },
        "outputId": "e4a58605-105d-4a5b-add3-452e6e2d931d"
      },
      "source": [
        "model.fit(input,output,epochs=3,batch_size=50)"
      ],
      "execution_count": null,
      "outputs": [
        {
          "output_type": "stream",
          "text": [
            "Epoch 1/3\n",
            "62630/62630 [==============================] - 3s 41us/step - loss: 0.1411 - accuracy: 0.9702\n",
            "Epoch 2/3\n",
            "62630/62630 [==============================] - 2s 36us/step - loss: 0.1402 - accuracy: 0.9702\n",
            "Epoch 3/3\n",
            "62630/62630 [==============================] - 2s 37us/step - loss: 0.1393 - accuracy: 0.9702\n"
          ],
          "name": "stdout"
        },
        {
          "output_type": "execute_result",
          "data": {
            "text/plain": [
              "<keras.callbacks.callbacks.History at 0x7f17aaf34c88>"
            ]
          },
          "metadata": {
            "tags": []
          },
          "execution_count": 13
        }
      ]
    },
    {
      "cell_type": "markdown",
      "metadata": {
        "id": "GhXd7IhUCYlu"
      },
      "source": [
        "Testing model\n"
      ]
    },
    {
      "cell_type": "code",
      "metadata": {
        "id": "9UxzV4nynDNT",
        "colab": {
          "base_uri": "https://localhost:8080/",
          "height": 34
        },
        "outputId": "57504f93-0df8-4c26-ec57-50419d52918c"
      },
      "source": [
        "score= model.evaluate(test_input,test_output,batch_size=50)"
      ],
      "execution_count": null,
      "outputs": [
        {
          "output_type": "stream",
          "text": [
            "31314/31314 [==============================] - 0s 15us/step\n"
          ],
          "name": "stdout"
        }
      ]
    },
    {
      "cell_type": "markdown",
      "metadata": {
        "id": "SLQmjmcNCOCe"
      },
      "source": [
        "**97**% Accuracy"
      ]
    },
    {
      "cell_type": "code",
      "metadata": {
        "id": "c2vQOO-3G_R6",
        "colab": {
          "base_uri": "https://localhost:8080/",
          "height": 34
        },
        "outputId": "35344190-bd33-4aff-f81e-e639f66baa36"
      },
      "source": [
        "score"
      ],
      "execution_count": null,
      "outputs": [
        {
          "output_type": "execute_result",
          "data": {
            "text/plain": [
              "[0.136642428264788, 0.9707079529762268]"
            ]
          },
          "metadata": {
            "tags": []
          },
          "execution_count": 15
        }
      ]
    },
    {
      "cell_type": "markdown",
      "metadata": {
        "id": "KEawFIXJCEpd"
      },
      "source": [
        "Time to test, with custom input\n"
      ]
    },
    {
      "cell_type": "code",
      "metadata": {
        "id": "ZY9_7IuGKtL2",
        "colab": {
          "base_uri": "https://localhost:8080/",
          "height": 233
        },
        "outputId": "ee59bfe9-55b7-413b-f085-5f03c7c0b68d"
      },
      "source": [
        "test_list=[\"live_only\"]\n",
        "test_list = tokenizer.texts_to_sequences(test_list)\n",
        "tmp_input=[]\n",
        "tmp_input.append(prepare_data(test_list))\n",
        "tmp_input.append(prepare_data(([1])))\n",
        "tmp_input= np.array(tmp_input)\n",
        "result = model.predict(tmp_input,batch_size=None,verbose=0,steps=None)\n",
        "indices = (-result[0]).argsort()[:]\n",
        "predicted_token = [x for x in indices if x not in test_list and x!= 0][:4]\n",
        "final_prediction = tokenizer.sequences_to_texts([predicted_token])\n",
        "final_prediction"
      ],
      "execution_count": null,
      "outputs": [
        {
          "output_type": "error",
          "ename": "NameError",
          "evalue": "ignored",
          "traceback": [
            "\u001b[0;31m---------------------------------------------------------------------------\u001b[0m",
            "\u001b[0;31mNameError\u001b[0m                                 Traceback (most recent call last)",
            "\u001b[0;32m<ipython-input-1-81309efe3023>\u001b[0m in \u001b[0;36m<module>\u001b[0;34m()\u001b[0m\n\u001b[1;32m      1\u001b[0m \u001b[0mtest_list\u001b[0m\u001b[0;34m=\u001b[0m\u001b[0;34m[\u001b[0m\u001b[0;34m\"live_only\"\u001b[0m\u001b[0;34m]\u001b[0m\u001b[0;34m\u001b[0m\u001b[0;34m\u001b[0m\u001b[0m\n\u001b[0;32m----> 2\u001b[0;31m \u001b[0mtest_list\u001b[0m \u001b[0;34m=\u001b[0m \u001b[0mtokenizer\u001b[0m\u001b[0;34m.\u001b[0m\u001b[0mtexts_to_sequences\u001b[0m\u001b[0;34m(\u001b[0m\u001b[0mtest_list\u001b[0m\u001b[0;34m)\u001b[0m\u001b[0;34m\u001b[0m\u001b[0;34m\u001b[0m\u001b[0m\n\u001b[0m\u001b[1;32m      3\u001b[0m \u001b[0mtmp_input\u001b[0m\u001b[0;34m=\u001b[0m\u001b[0;34m[\u001b[0m\u001b[0;34m]\u001b[0m\u001b[0;34m\u001b[0m\u001b[0;34m\u001b[0m\u001b[0m\n\u001b[1;32m      4\u001b[0m \u001b[0mtmp_input\u001b[0m\u001b[0;34m.\u001b[0m\u001b[0mappend\u001b[0m\u001b[0;34m(\u001b[0m\u001b[0mprepare_data\u001b[0m\u001b[0;34m(\u001b[0m\u001b[0mtest_list\u001b[0m\u001b[0;34m)\u001b[0m\u001b[0;34m)\u001b[0m\u001b[0;34m\u001b[0m\u001b[0;34m\u001b[0m\u001b[0m\n\u001b[1;32m      5\u001b[0m \u001b[0mtmp_input\u001b[0m\u001b[0;34m.\u001b[0m\u001b[0mappend\u001b[0m\u001b[0;34m(\u001b[0m\u001b[0mprepare_data\u001b[0m\u001b[0;34m(\u001b[0m\u001b[0;34m(\u001b[0m\u001b[0;34m[\u001b[0m\u001b[0;36m1\u001b[0m\u001b[0;34m]\u001b[0m\u001b[0;34m)\u001b[0m\u001b[0;34m)\u001b[0m\u001b[0;34m)\u001b[0m\u001b[0;34m\u001b[0m\u001b[0;34m\u001b[0m\u001b[0m\n",
            "\u001b[0;31mNameError\u001b[0m: name 'tokenizer' is not defined"
          ]
        }
      ]
    },
    {
      "cell_type": "code",
      "metadata": {
        "id": "SKojHI78bXDW",
        "colab": {
          "base_uri": "https://localhost:8080/",
          "height": 34
        },
        "outputId": "398be572-0776-4ec2-baa2-0b819291bb3e"
      },
      "source": [
        "model_json = model.to_json()\n",
        "with open(\"model.json\", \"w\") as json_file:\n",
        "    json_file.write(model_json)\n",
        "# serialize weights to HDF5\n",
        "model.save_weights(\"model.h5\")\n",
        "print(\"Saved model to disk\")\n",
        "files.download('model.json')"
      ],
      "execution_count": null,
      "outputs": [
        {
          "output_type": "stream",
          "text": [
            "Saved model to disk\n"
          ],
          "name": "stdout"
        },
        {
          "output_type": "display_data",
          "data": {
            "application/javascript": [
              "\n",
              "    async function download(id, filename, size) {\n",
              "      if (!google.colab.kernel.accessAllowed) {\n",
              "        return;\n",
              "      }\n",
              "      const div = document.createElement('div');\n",
              "      const label = document.createElement('label');\n",
              "      label.textContent = `Downloading \"${filename}\": `;\n",
              "      div.appendChild(label);\n",
              "      const progress = document.createElement('progress');\n",
              "      progress.max = size;\n",
              "      div.appendChild(progress);\n",
              "      document.body.appendChild(div);\n",
              "\n",
              "      const buffers = [];\n",
              "      let downloaded = 0;\n",
              "\n",
              "      const channel = await google.colab.kernel.comms.open(id);\n",
              "      // Send a message to notify the kernel that we're ready.\n",
              "      channel.send({})\n",
              "\n",
              "      for await (const message of channel.messages) {\n",
              "        // Send a message to notify the kernel that we're ready.\n",
              "        channel.send({})\n",
              "        if (message.buffers) {\n",
              "          for (const buffer of message.buffers) {\n",
              "            buffers.push(buffer);\n",
              "            downloaded += buffer.byteLength;\n",
              "            progress.value = downloaded;\n",
              "          }\n",
              "        }\n",
              "      }\n",
              "      const blob = new Blob(buffers, {type: 'application/binary'});\n",
              "      const a = document.createElement('a');\n",
              "      a.href = window.URL.createObjectURL(blob);\n",
              "      a.download = filename;\n",
              "      div.appendChild(a);\n",
              "      a.click();\n",
              "      div.remove();\n",
              "    }\n",
              "  "
            ],
            "text/plain": [
              "<IPython.core.display.Javascript object>"
            ]
          },
          "metadata": {
            "tags": []
          }
        },
        {
          "output_type": "display_data",
          "data": {
            "application/javascript": [
              "download(\"download_1ffc33e9-9b89-4c09-ad92-c2a1d640a181\", \"model.json\", 1917)"
            ],
            "text/plain": [
              "<IPython.core.display.Javascript object>"
            ]
          },
          "metadata": {
            "tags": []
          }
        }
      ]
    }
  ]
}